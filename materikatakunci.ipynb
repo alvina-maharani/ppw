{
  "nbformat": 4,
  "nbformat_minor": 0,
  "metadata": {
    "colab": {
      "provenance": []
    },
    "kernelspec": {
      "name": "python3",
      "display_name": "Python 3"
    },
    "language_info": {
      "name": "python"
    }
  },
  "cells": [
    {
      "cell_type": "markdown",
      "source": [
        "# **C. EKSTRAKSI KATA KUNCI**"
      ],
      "metadata": {
        "id": "7826QFP1Jgty"
      }
    },
    {
      "cell_type": "markdown",
      "source": [
        "Ekstraksi kata kunci adalah proses identifikasi dan pengekstrakan kata-kata atau frasa yang paling mewakili atau mencerminkan inti informasi dari suatu teks atau dokumen. Tujuan dari ekstraksi kata kunci adalah untuk menyajikan rangkuman singkat dari isu atau topik utama yang dibahas dalam teks, membantu pembaca atau sistem informasi untuk dengan cepat memahami esensi dari dokumen tersebut.\n",
        "\n",
        "Terdapat beberapa metode yang dapat digunakan untuk melakukan ekstraksi kata kunci, antara lain:\n",
        "\n",
        "1. **Frekuensi Kata:**\n",
        "   - Menghitung frekuensi kemunculan setiap kata dalam teks dan mengekstrak kata-kata dengan frekuensi tertinggi. Kata-kata yang muncul lebih sering dianggap lebih penting.\n",
        "\n",
        "2. **TF-IDF (Term Frequency-Inverse Document Frequency):**\n",
        "   - Mengukur seberapa penting suatu kata dalam suatu dokumen relatif terhadap frekuensinya di seluruh koleksi dokumen. Kata-kata dengan nilai TF-IDF tinggi cenderung menjadi kata kunci.\n",
        "\n",
        "3. **TextRank:**\n",
        "   - Mengadaptasi konsep algoritma PageRank dari dunia jaringan untuk menilai pentingnya kata-kata dalam suatu teks berdasarkan hubungan dan kedekatan antar kata-kata tersebut.\n",
        "\n",
        "4. **N-gram:**\n",
        "   - Mengekstrak serangkaian kata berurutan (n-gram) yang paling umum atau penting dalam teks.\n",
        "\n",
        "5. **Deep Learning:**\n",
        "   - Menggunakan model-model deep learning, seperti BERT atau GPT, untuk menghasilkan representasi teks yang kompleks dan mengekstrak kata kunci berdasarkan pemahaman yang lebih kontekstual.\n",
        "\n",
        "Proses ekstraksi kata kunci penting dalam berbagai aplikasi, termasuk dalam pemrosesan bahasa alami (NLP), analisis teks, dan pembuatan ringkasan otomatis. Hasil ekstraksi kata kunci dapat digunakan untuk memahami isu utama dalam suatu teks, meningkatkan pencarian informasi, dan menyusun ringkasan teks dengan cepat."
      ],
      "metadata": {
        "id": "UEXIWjTaKRcG"
      }
    },
    {
      "cell_type": "markdown",
      "source": [
        "selain itu untuk melakukan ekstraksi kata kunci bisa menggunakan Rake.\n",
        "RAKE, singkatan dari Rapid Automatic Keyword Extraction, adalah salah satu metode ekstraksi kata kunci yang dirancang untuk mengekstrak kata kunci secara cepat dan efisien dari sebuah teks. Metode ini menggunakan pendekatan berbasis frekuensi dan kombinasi kata-kata yang membentuk frasa kandidat.\n",
        "\n",
        "Berikut adalah langkah-langkah umum dalam algoritma RAKE:\n",
        "\n",
        "1. **Praproses Teks:**\n",
        "   - Tahap awal melibatkan praproses teks, termasuk penghilangan tanda baca, konversi teks menjadi huruf kecil, dan langkah-langkah pembersihan lainnya.\n",
        "\n",
        "2. **Pembentukan Frasa Kandidat:**\n",
        "   - Teks dibagi menjadi frasa-frasa kandidat berdasarkan pemisah kata. Frasa-frasa ini dapat terdiri dari satu kata atau lebih.\n",
        "\n",
        "3. **Hitung Skor Frekuensi dan Frekuensi Kata-Kata Kunci:**\n",
        "   - Setiap frasa kandidat diberi skor berdasarkan frekuensinya dalam teks dan jumlah kata-kata kunci yang terkandung di dalamnya. Skor ini membantu dalam menilai potensi kata-kata kunci.\n",
        "\n",
        "4. **Hitung Skor RAKE:**\n",
        "   - Skor RAKE dihitung dengan membagi skor frekuensi frasa dengan jumlah kata dalam frasa tersebut. Ini membantu mengidentifikasi frasa yang memiliki kata-kata kunci dan memiliki panjang yang sesuai.\n",
        "\n",
        "5. **Urutkan dan Pilih Kata Kunci:**\n",
        "   - Frasa-frasa kandidat diurutkan berdasarkan skor RAKE, dan kata kunci yang dihasilkan dipilih dari urutan teratas.\n",
        "\n",
        "6. **Hasilkan Kata Kunci Final:**\n",
        "   - Kata kunci final diperoleh dari pemilihan frasa-frasa kunci yang memenuhi kriteria tertentu, seperti memiliki skor RAKE di atas ambang batas tertentu.\n",
        "\n",
        "RAKE sering digunakan dalam konteks di mana ekstraksi kata kunci yang cepat diperlukan, seperti dalam pengindeksan dokumen atau pemrosesan teks besar. Meskipun metode ini relatif sederhana, ia dapat memberikan hasil yang baik dalam banyak situasi, terutama ketika teks memiliki struktur frasa yang kuat."
      ],
      "metadata": {
        "id": "qBSoE9wpKWoI"
      }
    },
    {
      "cell_type": "markdown",
      "source": [
        "Pertama-tama, mari kita ambil contoh kalimat-kalimat berikut untuk menjelaskan secara manual bagaimana RAKE dapat digunakan untuk menghitung kata kunci:\n",
        "\n",
        "1. \"Hewan peliharaan adalah teman yang baik.\"\n",
        "2. \"Anjing dan kucing adalah contoh hewan peliharaan.\"\n",
        "3. \"Setiap orang harus memberi makan dan merawat hewan peliharaan dengan baik.\"\n",
        "\n",
        "Langkah-langkah manual menggunakan RAKE:\n",
        "\n",
        "1. **Praproses Teks:**\n",
        "   - Tidak perlu melakukan praproses pada contoh ini karena teksnya sederhana.\n",
        "\n",
        "2. **Pembentukan Frasa Kandidat:**\n",
        "   - Frasa kandidat dibentuk dengan membagi teks berdasarkan pemisah kata. Misalnya:\n",
        "     - \"Hewan\", \"peliharaan\", \"teman\", \"baik\", dll.\n",
        "\n",
        "3. **Hitung Skor Frekuensi dan Frekuensi Kata-Kata Kunci:**\n",
        "   - Hitung frekuensi setiap frasa dan jumlah kata kunci yang terkandung di dalamnya. Misalnya:\n",
        "     - \"Hewan\": frekuensi = 3, jumlah kata kunci = 1\n",
        "     - \"peliharaan\": frekuensi = 3, jumlah kata kunci = 2\n",
        "     - ...\n",
        "\n",
        "4. **Hitung Skor RAKE:**\n",
        "   - Hitung skor RAKE dengan membagi skor frekuensi frasa dengan jumlah kata dalam frasa tersebut. Misalnya:\n",
        "     - RAKE(\"Hewan\") = frekuensi / jumlah_kata = 3 / 1 = 3\n",
        "     - RAKE(\"peliharaan\") = frekuensi / jumlah_kata = 3 / 2 = 1.5\n",
        "     - ...\n",
        "\n",
        "5. **Urutkan dan Pilih Kata Kunci:**\n",
        "   - Urutkan frasa-frasa berdasarkan skor RAKE secara menurun.\n",
        "     - Urutan teratas mungkin: \"Hewan\", \"peliharaan\", \"teman\", dll.\n",
        "\n",
        "6. **Hasilkan Kata Kunci Final:**\n",
        "   - Pilih kata kunci dari urutan teratas berdasarkan ambang batas tertentu. Misalnya, ambang batas skor RAKE > 2.\n",
        "     - Kata kunci final: \"Hewan\", \"peliharaan\"\n",
        "\n",
        "Dengan langkah-langkah ini, kita dapat secara manual menggunakan algoritma RAKE untuk mengidentifikasi kata kunci dari teks. Proses ini dapat diulangi untuk teks yang lebih besar dengan langkah-langkah yang serupa, dan kata kunci dapat dipilih sesuai dengan ambang batas atau kriteria tertentu."
      ],
      "metadata": {
        "id": "Z1oTOWPzMoXN"
      }
    }
  ]
}